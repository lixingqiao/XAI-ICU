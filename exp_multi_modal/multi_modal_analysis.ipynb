{
 "cells": [
  {
   "cell_type": "code",
   "execution_count": 1,
   "id": "c531c219-5664-4eac-acd9-95bc13f35a89",
   "metadata": {
    "execution": {
     "iopub.execute_input": "2023-11-13T11:14:06.798711Z",
     "iopub.status.busy": "2023-11-13T11:14:06.798328Z",
     "iopub.status.idle": "2023-11-13T11:14:07.631328Z",
     "shell.execute_reply": "2023-11-13T11:14:07.630481Z",
     "shell.execute_reply.started": "2023-11-13T11:14:06.798685Z"
    },
    "tags": []
   },
   "outputs": [],
   "source": [
    "import os\n",
    "import pandas as pd\n",
    "import scipy.stats as st\n",
    "import numpy as np"
   ]
  },
  {
   "cell_type": "code",
   "execution_count": 2,
   "id": "b73c3b31-36f6-4e28-9f36-ccd9a9ef4996",
   "metadata": {
    "execution": {
     "iopub.execute_input": "2023-11-13T11:14:08.099537Z",
     "iopub.status.busy": "2023-11-13T11:14:08.098962Z",
     "iopub.status.idle": "2023-11-13T11:14:08.104553Z",
     "shell.execute_reply": "2023-11-13T11:14:08.103750Z",
     "shell.execute_reply.started": "2023-11-13T11:14:08.099508Z"
    },
    "tags": []
   },
   "outputs": [],
   "source": [
    "def confidence(data):\n",
    "    res = st.t.interval(confidence=0.95, df=len(data)-1,\n",
    "                  loc=np.mean(data),\n",
    "                  scale=st.sem(data))\n",
    "    res = [round(i, 3) for i in res]\n",
    "    return tuple(res)"
   ]
  },
  {
   "cell_type": "markdown",
   "id": "fef85ad8-0684-4c23-9921-7dee8b11dcaa",
   "metadata": {},
   "source": [
    "#### study"
   ]
  },
  {
   "cell_type": "code",
   "execution_count": 3,
   "id": "1c7319d2-fd6c-4316-8108-95cd34999dcc",
   "metadata": {
    "execution": {
     "iopub.execute_input": "2023-11-13T11:14:09.301257Z",
     "iopub.status.busy": "2023-11-13T11:14:09.300823Z",
     "iopub.status.idle": "2023-11-13T11:14:09.741602Z",
     "shell.execute_reply": "2023-11-13T11:14:09.740733Z",
     "shell.execute_reply.started": "2023-11-13T11:14:09.301231Z"
    },
    "tags": []
   },
   "outputs": [],
   "source": [
    "import os\n",
    "\n",
    "import joblib\n",
    "import optuna"
   ]
  },
  {
   "cell_type": "code",
   "execution_count": 4,
   "id": "148b11e8-0215-4ddd-9d15-b4c3255405d5",
   "metadata": {
    "execution": {
     "iopub.execute_input": "2023-11-13T11:14:09.768023Z",
     "iopub.status.busy": "2023-11-13T11:14:09.767689Z",
     "iopub.status.idle": "2023-11-13T11:14:09.775156Z",
     "shell.execute_reply": "2023-11-13T11:14:09.774449Z",
     "shell.execute_reply.started": "2023-11-13T11:14:09.767996Z"
    },
    "tags": []
   },
   "outputs": [],
   "source": [
    "study = joblib.load(os.path.join(\"study/\", \"study_notes_physi.joblib\"))"
   ]
  },
  {
   "cell_type": "code",
   "execution_count": 5,
   "id": "1429a206-b2a5-4f6a-a52f-9581fd85df76",
   "metadata": {
    "execution": {
     "iopub.execute_input": "2023-11-13T11:14:12.108783Z",
     "iopub.status.busy": "2023-11-13T11:14:12.108430Z",
     "iopub.status.idle": "2023-11-13T11:14:12.115428Z",
     "shell.execute_reply": "2023-11-13T11:14:12.114638Z",
     "shell.execute_reply.started": "2023-11-13T11:14:12.108756Z"
    },
    "tags": []
   },
   "outputs": [
    {
     "name": "stdout",
     "output_type": "stream",
     "text": [
      "Study statistics: \n",
      "  Number of finished trials:  20\n",
      "Best trial: FrozenTrial(number=6, state=1, values=[0.8533300174330142], datetime_start=datetime.datetime(2023, 9, 28, 23, 57, 5, 425060), datetime_complete=datetime.datetime(2023, 9, 29, 0, 10, 16, 877734), params={'class_weight': 1.4, 'notes_hidden': 20}, user_attrs={}, system_attrs={'completed_rung_0': 0.8594568444826267, 'completed_rung_1': 0.8594568444826267}, intermediate_values={3: 0.8594568444826267, 4: 0.8533300174330142}, distributions={'class_weight': FloatDistribution(high=3.0, log=False, low=1.0, step=0.1), 'notes_hidden': CategoricalDistribution(choices=(20, 50, 100, 150, 200))}, trial_id=6, value=None)\n",
      "  Value:  0.8533300174330142\n"
     ]
    }
   ],
   "source": [
    "print(\"Study statistics: \")\n",
    "print(\"  Number of finished trials: \", len(study.trials))\n",
    "\n",
    "best_trial = study.best_trial\n",
    "print(\"Best trial:\", best_trial)\n",
    "print(\"  Value: \", best_trial.value)"
   ]
  },
  {
   "cell_type": "markdown",
   "id": "cc48c6b8-8f9f-4d6a-b5b7-284e13b3db2f",
   "metadata": {},
   "source": [
    "#### notes_physi"
   ]
  },
  {
   "cell_type": "code",
   "execution_count": 9,
   "id": "3b0b1cc1-bef1-4d5d-9a1d-53b2eaad8d8e",
   "metadata": {
    "execution": {
     "iopub.execute_input": "2023-11-13T12:08:10.229822Z",
     "iopub.status.busy": "2023-11-13T12:08:10.229374Z",
     "iopub.status.idle": "2023-11-13T12:08:10.246153Z",
     "shell.execute_reply": "2023-11-13T12:08:10.245432Z",
     "shell.execute_reply.started": "2023-11-13T12:08:10.229796Z"
    },
    "tags": []
   },
   "outputs": [
    {
     "name": "stdout",
     "output_type": "stream",
     "text": [
      "all_auc_roc 95% confidence interval 0.85 (0.845, 0.856)\n",
      "all_auc_pr 95% confidence interval 0.408 (0.391, 0.424)\n"
     ]
    }
   ],
   "source": [
    "ckpt_dir = \"ckpt/notes_physi\"\n",
    "\n",
    "all_auc_roc = []\n",
    "all_auc_pr = []\n",
    "best_auc_roc = []\n",
    "best_auc_pr = []\n",
    "\n",
    "for trial_dir in os.listdir(ckpt_dir):\n",
    "    test_info = pd.read_csv(os.path.join(ckpt_dir, trial_dir, \"test_info.csv\"))\n",
    "    all_auc_roc.extend(test_info[\"auc_roc\"].to_list())\n",
    "    all_auc_pr.extend(test_info[\"auc_pr\"].to_list())\n",
    "    # if trial_dir == \"best_1_trial\":\n",
    "    #     best_auc_roc.extend(test_info[\"auc_roc\"].to_list())\n",
    "    #     best_auc_pr.extend(test_info[\"auc_pr\"].to_list())\n",
    "        \n",
    "print(\"all_auc_roc 95% confidence interval\", np.round(np.mean(confidence(all_auc_roc)), 3), confidence(all_auc_roc))\n",
    "print(\"all_auc_pr 95% confidence interval\", np.round(np.mean(confidence(all_auc_pr)), 3), confidence(all_auc_pr))"
   ]
  },
  {
   "cell_type": "markdown",
   "id": "2a66c1b1-df69-49d2-bab3-1d72b3f3b6b0",
   "metadata": {},
   "source": [
    "#### notes_vital"
   ]
  },
  {
   "cell_type": "code",
   "execution_count": 10,
   "id": "544c3a9f-23a3-4749-abc9-636459c1ada3",
   "metadata": {
    "execution": {
     "iopub.execute_input": "2023-11-13T12:08:45.221244Z",
     "iopub.status.busy": "2023-11-13T12:08:45.220848Z",
     "iopub.status.idle": "2023-11-13T12:08:45.238090Z",
     "shell.execute_reply": "2023-11-13T12:08:45.237378Z",
     "shell.execute_reply.started": "2023-11-13T12:08:45.221206Z"
    },
    "tags": []
   },
   "outputs": [
    {
     "name": "stdout",
     "output_type": "stream",
     "text": [
      "all_auc_roc 95% confidence interval 0.814 (0.805, 0.824)\n",
      "all_auc_pr 95% confidence interval 0.35 (0.335, 0.364)\n"
     ]
    }
   ],
   "source": [
    "ckpt_dir = \"ckpt/notes_vital/\"\n",
    "\n",
    "all_auc_roc = []\n",
    "all_auc_pr = []\n",
    "best_auc_roc = []\n",
    "best_auc_pr = []\n",
    "\n",
    "for trial_dir in os.listdir(ckpt_dir):\n",
    "    test_info = pd.read_csv(os.path.join(ckpt_dir, trial_dir, \"test_info.csv\"))\n",
    "    all_auc_roc.extend(test_info[\"auc_roc\"].to_list())\n",
    "    all_auc_pr.extend(test_info[\"auc_pr\"].to_list())\n",
    "    # if trial_dir == \"best_1_trial\":\n",
    "    #     best_auc_roc.extend(test_info[\"auc_roc\"].to_list())\n",
    "    #     best_auc_pr.extend(test_info[\"auc_pr\"].to_list())\n",
    "        \n",
    "print(\"all_auc_roc 95% confidence interval\", np.round(np.mean(confidence(all_auc_roc)), 3), confidence(all_auc_roc))\n",
    "print(\"all_auc_pr 95% confidence interval\", np.round(np.mean(confidence(all_auc_pr)), 3), confidence(all_auc_pr))"
   ]
  },
  {
   "cell_type": "markdown",
   "id": "44514b49-f838-46a2-a5ec-6c30058a4cf7",
   "metadata": {},
   "source": [
    "#### physi_vital"
   ]
  },
  {
   "cell_type": "code",
   "execution_count": 11,
   "id": "36cd80e8-c7cd-433c-a846-067aabdad0e5",
   "metadata": {
    "execution": {
     "iopub.execute_input": "2023-11-13T12:08:48.384913Z",
     "iopub.status.busy": "2023-11-13T12:08:48.384524Z",
     "iopub.status.idle": "2023-11-13T12:08:48.403105Z",
     "shell.execute_reply": "2023-11-13T12:08:48.402364Z",
     "shell.execute_reply.started": "2023-11-13T12:08:48.384888Z"
    },
    "tags": []
   },
   "outputs": [
    {
     "name": "stdout",
     "output_type": "stream",
     "text": [
      "all_auc_roc 95% confidence interval 0.849 (0.841, 0.858)\n",
      "all_auc_pr 95% confidence interval 0.429 (0.404, 0.454)\n"
     ]
    }
   ],
   "source": [
    "ckpt_dir = \"ckpt/physi_vital/\"\n",
    "\n",
    "all_auc_roc = []\n",
    "all_auc_pr = []\n",
    "best_auc_roc = []\n",
    "best_auc_pr = []\n",
    "\n",
    "for trial_dir in os.listdir(ckpt_dir):\n",
    "    test_info = pd.read_csv(os.path.join(ckpt_dir, trial_dir, \"test_info.csv\"))\n",
    "    all_auc_roc.extend(test_info[\"auc_roc\"].to_list())\n",
    "    all_auc_pr.extend(test_info[\"auc_pr\"].to_list())\n",
    "    # if trial_dir == \"best_1_trial\":\n",
    "    #     best_auc_roc.extend(test_info[\"auc_roc\"].to_list())\n",
    "    #     best_auc_pr.extend(test_info[\"auc_pr\"].to_list())\n",
    "        \n",
    "print(\"all_auc_roc 95% confidence interval\", np.round(np.mean(confidence(all_auc_roc)), 3), confidence(all_auc_roc))\n",
    "print(\"all_auc_pr 95% confidence interval\", np.round(np.mean(confidence(all_auc_pr)), 3), confidence(all_auc_pr))"
   ]
  },
  {
   "cell_type": "markdown",
   "id": "cfc528b6-a197-40d9-b97e-fb52ebc00312",
   "metadata": {},
   "source": [
    "#### all"
   ]
  },
  {
   "cell_type": "code",
   "execution_count": 12,
   "id": "da0cd029-2c29-4920-9fab-ce8d81ada595",
   "metadata": {
    "execution": {
     "iopub.execute_input": "2023-11-13T12:08:51.762654Z",
     "iopub.status.busy": "2023-11-13T12:08:51.762260Z",
     "iopub.status.idle": "2023-11-13T12:08:51.779050Z",
     "shell.execute_reply": "2023-11-13T12:08:51.778353Z",
     "shell.execute_reply.started": "2023-11-13T12:08:51.762629Z"
    },
    "tags": []
   },
   "outputs": [
    {
     "name": "stdout",
     "output_type": "stream",
     "text": [
      "all_auc_roc 95% confidence interval 0.858 (0.851, 0.866)\n",
      "all_auc_pr 95% confidence interval 0.43 (0.412, 0.449)\n"
     ]
    }
   ],
   "source": [
    "ckpt_dir = \"ckpt/notes_physi_vital/\"\n",
    "\n",
    "all_auc_roc = []\n",
    "all_auc_pr = []\n",
    "best_auc_roc = []\n",
    "best_auc_pr = []\n",
    "\n",
    "for trial_dir in os.listdir(ckpt_dir):\n",
    "    test_info = pd.read_csv(os.path.join(ckpt_dir, trial_dir, \"test_info.csv\"))\n",
    "    all_auc_roc.extend(test_info[\"auc_roc\"].to_list())\n",
    "    all_auc_pr.extend(test_info[\"auc_pr\"].to_list())\n",
    "    # if trial_dir == \"best_1_trial\":\n",
    "    #     best_auc_roc.extend(test_info[\"auc_roc\"].to_list())\n",
    "    #     best_auc_pr.extend(test_info[\"auc_pr\"].to_list())\n",
    "        \n",
    "print(\"all_auc_roc 95% confidence interval\", np.round(np.mean(confidence(all_auc_roc)), 3), confidence(all_auc_roc))\n",
    "print(\"all_auc_pr 95% confidence interval\", np.round(np.mean(confidence(all_auc_pr)), 3), confidence(all_auc_pr))"
   ]
  },
  {
   "cell_type": "code",
   "execution_count": null,
   "id": "f1e4323b-2046-47f3-96af-8fb6df646f65",
   "metadata": {},
   "outputs": [],
   "source": []
  }
 ],
 "metadata": {
  "kernelspec": {
   "display_name": "main",
   "language": "python",
   "name": "main"
  },
  "language_info": {
   "codemirror_mode": {
    "name": "ipython",
    "version": 3
   },
   "file_extension": ".py",
   "mimetype": "text/x-python",
   "name": "python",
   "nbconvert_exporter": "python",
   "pygments_lexer": "ipython3",
   "version": "3.11.3"
  }
 },
 "nbformat": 4,
 "nbformat_minor": 5
}
